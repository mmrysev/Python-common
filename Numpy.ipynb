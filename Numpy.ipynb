{
 "cells": [
  {
   "cell_type": "code",
   "execution_count": 17,
   "metadata": {
    "collapsed": true
   },
   "outputs": [],
   "source": [
    "import numpy as np\n",
    "import math\n",
    "import matplotlib.pyplot as plt\n",
    "from io import BytesIO\n"
   ]
  },
  {
   "cell_type": "markdown",
   "metadata": {},
   "source": [
    "# Определение массива"
   ]
  },
  {
   "cell_type": "code",
   "execution_count": 8,
   "metadata": {
    "collapsed": false
   },
   "outputs": [],
   "source": [
    "a = np.array([2,3,4])\n",
    "b = np.array([(1.5,2,3), (4,5,6)])\n",
    "c=np.zeros( (3,4) )\n",
    "d=np.ones( (2,3,4), dtype=np.int16 )\n",
    "e=np.empty( (2,3) )\n",
    "f=np.arange( 0, 2, 0.3 )\n",
    "g=np.linspace( 0, 2, 9 )\n",
    "h=np.linspace( 0, 2*math.pi, 100 )\n",
    "#array, zeros, zeros_like, ones, ones_like, empty, empty_like, arange, linspace, numpy.random.rand, numpy.random.randn, fromfunction, fromfile"
   ]
  },
  {
   "cell_type": "markdown",
   "metadata": {},
   "source": [
    "# Основные методы массива"
   ]
  },
  {
   "cell_type": "code",
   "execution_count": 9,
   "metadata": {
    "collapsed": false
   },
   "outputs": [
    {
     "name": "stdout",
     "output_type": "stream",
     "text": [
      "('a:', array([[ 0,  1,  2,  3,  4],\n",
      "       [ 5,  6,  7,  8,  9],\n",
      "       [10, 11, 12, 13, 14]]))\n",
      "('shape:', (3, 5))\n",
      "('dim:', 2)\n",
      "('dtype:', 'int64')\n",
      "('itemsize:', 8)\n",
      "('size:', 15)\n"
     ]
    }
   ],
   "source": [
    "a = np.arange(15).reshape(3, 5)\n",
    "print('a:',a)\n",
    "print('shape:',a.shape)\n",
    "print('dim:',a.ndim)\n",
    "print('dtype:',a.dtype.name)\n",
    "print('itemsize:',a.itemsize)\n",
    "print('size:',a.size)"
   ]
  },
  {
   "cell_type": "code",
   "execution_count": 11,
   "metadata": {
    "collapsed": false
   },
   "outputs": [
    {
     "name": "stdout",
     "output_type": "stream",
     "text": [
      "[[   0    1    2 ...,   97   98   99]\n",
      " [ 100  101  102 ...,  197  198  199]\n",
      " [ 200  201  202 ...,  297  298  299]\n",
      " ..., \n",
      " [9700 9701 9702 ..., 9797 9798 9799]\n",
      " [9800 9801 9802 ..., 9897 9898 9899]\n",
      " [9900 9901 9902 ..., 9997 9998 9999]]\n",
      "[ -1.00000000e+00   1.00000000e+00   6.12323400e-17]\n",
      "[[ 1  4  9]\n",
      " [16 25 36]\n",
      " [49 64 81]]\n",
      "[[ 30  36  42]\n",
      " [ 66  81  96]\n",
      " [102 126 150]]\n",
      "[[ 30  36  42]\n",
      " [ 66  81  96]\n",
      " [102 126 150]]\n",
      "[[ 2  4  6]\n",
      " [ 8 10 12]\n",
      " [14 16 18]]\n",
      "[[101 102 103]\n",
      " [104 105 106]\n",
      " [107 108 109]]\n",
      "45\n",
      "1\n",
      "[[5]]\n",
      "[ 3.14159265  0.          1.57079633]\n",
      "[1 2 3]\n",
      "[4 5 6]\n",
      "[7 8 9]\n",
      "1\n",
      "2\n",
      "3\n",
      "4\n",
      "5\n",
      "6\n",
      "7\n",
      "8\n",
      "9\n"
     ]
    }
   ],
   "source": [
    "print(np.arange(10000).reshape(100,100))\n",
    "\n",
    "a = np.array([math.pi,0,math.pi/2])\n",
    "b=np.cos(a)\n",
    "print(b)\n",
    "\n",
    "c=np.arange(1,10).reshape(3,3)\n",
    "d=c*c\n",
    "print(d)\n",
    "d=c.dot(c)\n",
    "print(d)\n",
    "d=np.dot(c,c)\n",
    "print(d)\n",
    "print(c+c)\n",
    "print(c+100)\n",
    "\n",
    "print(c.sum())\n",
    "print(c.min())\n",
    "print(c[1:2,1:2])\n",
    "\n",
    "print(a)\n",
    "\n",
    "for row in c:\n",
    "    print(row)\n",
    "\n",
    "for i in c.flat:\n",
    "    print(i)"
   ]
  },
  {
   "cell_type": "code",
   "execution_count": 19,
   "metadata": {
    "collapsed": false
   },
   "outputs": [
    {
     "name": "stdout",
     "output_type": "stream",
     "text": [
      "[[ 1.  0.  4.  0.]\n",
      " [ 7.  2.  0.  1.]\n",
      " [ 6.  0.  5.  8.]]\n",
      "[ 1.  0.  4.  0.  7.  2.  0.  1.  6.  0.  5.  8.]\n",
      "[[ 1.  0.  4.  0.  7.  2.]\n",
      " [ 0.  1.  6.  0.  5.  8.]]\n"
     ]
    }
   ],
   "source": [
    "a = np.floor(10*np.random.random((3,4)))\n",
    "print(a)\n",
    "\n",
    "b=a.ravel()\n",
    "print(b)\n",
    "\n",
    "a.shape = (2, 6)\n",
    "print(a)"
   ]
  },
  {
   "cell_type": "code",
   "execution_count": 23,
   "metadata": {
    "collapsed": false
   },
   "outputs": [
    {
     "name": "stdout",
     "output_type": "stream",
     "text": [
      "[6 7 8 9]\n",
      "[[False False False False  True False]\n",
      " [False False  True False False  True]]\n"
     ]
    }
   ],
   "source": [
    "d=np.arange(1,10)\n",
    "c=np.arange(21,30)\n",
    "\n",
    "print(d[c>25])\n",
    "\n",
    "k=a>5\n",
    "print(k)"
   ]
  },
  {
   "cell_type": "markdown",
   "metadata": {},
   "source": [
    "# Mandelbrot"
   ]
  },
  {
   "cell_type": "code",
   "execution_count": 24,
   "metadata": {
    "collapsed": false
   },
   "outputs": [
    {
     "name": "stdout",
     "output_type": "stream",
     "text": [
      "[[20 20 20 ..., 20 20 20]\n",
      " [20 20 20 ..., 20 20 20]\n",
      " [20 20 20 ..., 20 20 20]\n",
      " ..., \n",
      " [20 20 20 ..., 20 20 20]\n",
      " [20 20 20 ..., 20 20 20]\n",
      " [20 20 20 ..., 20 20 20]]\n",
      "(400, 400)\n"
     ]
    },
    {
     "data": {
      "image/png": "[encoded data removed]",
      "text/plain": [
       "<matplotlib.figure.Figure at 0x103a4c1d0>"
      ]
     },
     "metadata": {},
     "output_type": "display_data"
    }
   ],
   "source": [
    "def mandelbrot( h,w, maxit=20 ):\n",
    "    y,x = np.ogrid[ -1.4:1.4:h*1j, -2:0.8:w*1j ]\n",
    "    c = x+y*1j\n",
    "    z=c\n",
    "\n",
    "    divtime = maxit + np.zeros(z.shape, dtype=int)\n",
    "    print(divtime)\n",
    "\n",
    "    for i in range(maxit):\n",
    "        z=z**2+c\n",
    "        diverge = z*np.conj(z) > 2**2 # who is diverging\n",
    "        div_now = diverge & (divtime==maxit) # who is diverging now\n",
    "        divtime[div_now] = i\n",
    "        z[diverge] = 2\n",
    "\n",
    "    print(divtime.shape)\n",
    "    \n",
    "    return divtime\n",
    "\n",
    "plt.imshow(mandelbrot(400,400))\n",
    "plt.show()"
   ]
  },
  {
   "cell_type": "markdown",
   "metadata": {},
   "source": [
    "# Массив с разными типами переменных"
   ]
  },
  {
   "cell_type": "code",
   "execution_count": 25,
   "metadata": {
    "collapsed": false
   },
   "outputs": [
    {
     "name": "stdout",
     "output_type": "stream",
     "text": [
      "['Hello' 'World']\n",
      "[(1, 2.0, 'Hello') (2, 3.0, 'World')]\n"
     ]
    }
   ],
   "source": [
    "#x = np.zeros(3, dtype='3int8, float32, (2,3)float64')\n",
    "#print(x)\n",
    "\n",
    "#x = np.zeros(3, dtype=('i4',[('r','u1'), ('g','u1'), ('b','u1'), ('a','u1')])) \n",
    "#print(x['r'])\n",
    "\n",
    "#x = np.zeros(3, dtype=[('x','f4'),('y',np.float32),('value','f4',(2,2))])\n",
    "#print(x)\n",
    "\n",
    "#x = np.zeros(3, dtype={'col1':('i1',0,'title 1'), 'col2':('S10',1,'title 2')})\n",
    "#print(x)\n",
    "#x[0]['title 2']='asdsdfsdgsgdsgsdgsd'\n",
    "#print(x[0]['title 2'])\n",
    "#print(x)\n",
    "\n",
    "recordarr = np.rec.array([(1,2.,'Hello'),(2,3.,\"World\")],\n",
    "dtype=[('foo', 'i4'),('bar', 'f4'), ('baz', 'S10')])\n",
    "print(recordarr.baz)\n",
    "\n",
    "np.save(\"numpy03.txt\",recordarr)\n",
    "y=np.load(\"numpy03.txt\")\n",
    "print(y)"
   ]
  }
 ],
 "metadata": {
  "kernelspec": {
   "display_name": "Python 2",
   "language": "python",
   "name": "python2"
  },
  "language_info": {
   "codemirror_mode": {
    "name": "ipython",
    "version": 2
   },
   "file_extension": ".py",
   "mimetype": "text/x-python",
   "name": "python",
   "nbconvert_exporter": "python",
   "pygments_lexer": "ipython2",
   "version": "2.7.13"
  }
 },
 "nbformat": 4,
 "nbformat_minor": 2
}
